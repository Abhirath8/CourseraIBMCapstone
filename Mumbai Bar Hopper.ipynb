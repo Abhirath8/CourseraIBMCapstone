{
 "cells": [
  {
   "cell_type": "markdown",
   "metadata": {
    "collapsed": true
   },
   "source": [
    "# Mumbai Bar Hopper #"
   ]
  },
  {
   "cell_type": "markdown",
   "metadata": {},
   "source": [
    "## Introduction ##"
   ]
  },
  {
   "cell_type": "markdown",
   "metadata": {},
   "source": [
    "Mumbai, India, has an ever growing nightlife, with bars and restaurants opening up at a rapid pace. It has become almost impossible to know which place is trending, highly rated, or which place has deteriorated over time and overpopulation."
   ]
  },
  {
   "cell_type": "markdown",
   "metadata": {},
   "source": [
    "### I would like to leverage the Foursquare location data, along with Geo Spatial information about Mumbai Neighborhoods, in order to depict the bars/pubs around each location. The target stakeholder would be:\n",
    "### 1. Common individual, looking for bars/pubs around them, along with Trending bars/pubs around them.\n",
    "### 2. Common individual , looking for the neighborhood with the most bars to bar hop.\n",
    "### 3. Stakeholders looking for the right neighborhood to open a new bar/pub."
   ]
  },
  {
   "cell_type": "markdown",
   "metadata": {},
   "source": [
    "## Data ##"
   ]
  },
  {
   "cell_type": "markdown",
   "metadata": {},
   "source": [
    "To provide the appropriate stakeholders the necessary information, I will be utilizing Mumbai's locational data by zip code, along with BeautifulSoup, in order to extract locational data by latitude and longitude. This geospatial data will be parsed into my Foursquare calls, where I will search all venues in a given radius. The venues will be sorted by rating(Foursquare Likes) and zip code frequency. I will also cluster the data, so that individuals can visually see the frequency of bars/pubs by neighborhood, and by rating in neighborhoods.  \n",
    "\n",
    "### The data for Mumbai's locational data by zip code is available at the following link:\n",
    "### https://www.mapsofindia.com/pincode/india/maharashtra/mumbai/\n",
    "\n",
    "### The following data points will be extracted from the Foursquare API for each venue by zip code:\n",
    "\n",
    "1. Venue Name\n",
    "\n",
    "2. Unique ID\n",
    "\n",
    "3. Geospatial Location\n",
    "\n",
    "4. Number of Likes\n",
    "\n",
    "5. Trending Status"
   ]
  },
  {
   "cell_type": "code",
   "execution_count": null,
   "metadata": {},
   "outputs": [],
   "source": []
  }
 ],
 "metadata": {
  "kernelspec": {
   "display_name": "Python 3.6",
   "language": "python",
   "name": "python3"
  },
  "language_info": {
   "codemirror_mode": {
    "name": "ipython",
    "version": 3
   },
   "file_extension": ".py",
   "mimetype": "text/x-python",
   "name": "python",
   "nbconvert_exporter": "python",
   "pygments_lexer": "ipython3",
   "version": "3.6.8"
  }
 },
 "nbformat": 4,
 "nbformat_minor": 1
}
